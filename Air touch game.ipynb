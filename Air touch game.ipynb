{
 "cells": [
  {
   "cell_type": "markdown",
   "id": "9a386321",
   "metadata": {},
   "source": [
    "# Minor Project Coding using Python"
   ]
  },
  {
   "cell_type": "markdown",
   "id": "aa5fea3c",
   "metadata": {},
   "source": [
    "# Importing modules"
   ]
  },
  {
   "cell_type": "code",
   "execution_count": 1,
   "id": "c51659db",
   "metadata": {},
   "outputs": [
    {
     "name": "stdout",
     "output_type": "stream",
     "text": [
      "pygame 2.5.2 (SDL 2.28.3, Python 3.9.12)\n",
      "Hello from the pygame community. https://www.pygame.org/contribute.html\n",
      "WARNING:tensorflow:From C:\\Users\\al\\anaconda3\\lib\\site-packages\\keras\\src\\losses.py:2976: The name tf.losses.sparse_softmax_cross_entropy is deprecated. Please use tf.compat.v1.losses.sparse_softmax_cross_entropy instead.\n",
      "\n"
     ]
    }
   ],
   "source": [
    "import pygame\n",
    "import cv2\n",
    "import mediapipe as mp\n",
    "import numpy as np"
   ]
  },
  {
   "cell_type": "markdown",
   "id": "a4195c2a",
   "metadata": {},
   "source": [
    "# Initialize Pygame"
   ]
  },
  {
   "cell_type": "code",
   "execution_count": 2,
   "id": "b45511f5",
   "metadata": {},
   "outputs": [],
   "source": [
    "pygame.init()\n",
    "clock = pygame.time.Clock()\n",
    "screen_width, screen_height = 800, 600\n",
    "screen = pygame.display.set_mode((screen_width, screen_height))\n",
    "pygame.display.set_caption(\"Air Touch Game\")\n",
    "\n",
    "white = (255, 255, 255)\n",
    "black = (0, 0, 0)\n",
    "red = (255, 0, 0)"
   ]
  },
  {
   "cell_type": "markdown",
   "id": "dfb0054f",
   "metadata": {},
   "source": [
    "# Image loading"
   ]
  },
  {
   "cell_type": "code",
   "execution_count": 3,
   "id": "57b5e6e5",
   "metadata": {},
   "outputs": [],
   "source": [
    "car_image = pygame.image.load(\"earth1.jpeg\")\n",
    "car_image = pygame.transform.scale(car_image, (70, 140))  \n",
    "car_x, car_y = screen_width // 2, screen_height - 150\n",
    "car_speed = 5\n",
    "\n",
    "background_image = pygame.image.load(\"back2.jpeg\")\n",
    "background_image = pygame.transform.scale(background_image, (screen_width, screen_height))\n",
    "\n",
    "stone_image = pygame.image.load(\"missile2.png\")\n",
    "stone_image = pygame.transform.scale(stone_image, (50, 50))"
   ]
  },
  {
   "cell_type": "markdown",
   "id": "a85792f9",
   "metadata": {},
   "source": [
    "# Loading BGM"
   ]
  },
  {
   "cell_type": "code",
   "execution_count": 4,
   "id": "d8bc20b2",
   "metadata": {},
   "outputs": [],
   "source": [
    "pygame.mixer.music.load(\"avengers1.mp3\")  \n",
    "pygame.mixer.music.play()  \n",
    "\n",
    "\n",
    "def is_music_playing():\n",
    "    return pygame.mixer.music.get_busy()"
   ]
  },
  {
   "cell_type": "markdown",
   "id": "159284dc",
   "metadata": {},
   "source": [
    "# Initialize Mediapipe"
   ]
  },
  {
   "cell_type": "code",
   "execution_count": 5,
   "id": "ca23ac35",
   "metadata": {},
   "outputs": [],
   "source": [
    "mp_hands = mp.solutions.hands\n",
    "hands = mp_hands.Hands(max_num_hands=1)\n",
    "mp_draw = mp.solutions.drawing_utils"
   ]
  },
  {
   "cell_type": "markdown",
   "id": "b5ddb7da",
   "metadata": {},
   "source": [
    "# OpenCV setup"
   ]
  },
  {
   "cell_type": "code",
   "execution_count": 6,
   "id": "759bcdbf",
   "metadata": {},
   "outputs": [],
   "source": [
    "cap = cv2.VideoCapture(0)\n",
    "\n",
    "stone_count = 5\n",
    "stones = [{\"x\": np.random.randint(0, screen_width - 50), \"y\": np.random.randint(-600, -50)} for _ in range(stone_count)]\n",
    "stone_speed = 5\n",
    "\n",
    "score = 0\n",
    "high_score = 0\n",
    "font = pygame.font.Font(None, 36)\n",
    "\n",
    "def draw_car(x, y, image):\n",
    "    screen.blit(image, (x, y))\n",
    "\n",
    "def draw_stone(x, y):\n",
    "    screen.blit(stone_image, (x, y))\n",
    "\n",
    "def show_text(text, x, y, color):\n",
    "    screen_text = font.render(text, True, color)\n",
    "    screen.blit(screen_text, (x, y))\n",
    "\n",
    "def main():\n",
    "    global car_x, stones, score, high_score\n",
    "    running = True\n",
    "    music_played_once = False\n",
    "\n",
    "    while running:\n",
    "        for event in pygame.event.get():\n",
    "            if event.type == pygame.QUIT:\n",
    "                running = False\n",
    "\n",
    "        if not is_music_playing() and not music_played_once:\n",
    "            music_played_once = True\n",
    "            pygame.time.wait(500)  \n",
    "            pygame.mixer.music.load(\"poco1.mp3\")  \n",
    "            pygame.mixer.music.play(-1)  \n",
    "       \n",
    "        success, frame = cap.read()\n",
    "        if not success:\n",
    "            continue\n",
    "\n",
    "        frame = cv2.flip(frame, 1)\n",
    "        frame_rgb = cv2.cvtColor(frame, cv2.COLOR_BGR2RGB)\n",
    "        results = hands.process(frame_rgb)\n",
    "\n",
    "        if results.multi_hand_landmarks:\n",
    "            hand_landmarks = results.multi_hand_landmarks[0].landmark\n",
    "\n",
    "            index_finger_tip_x = int(hand_landmarks[mp_hands.HandLandmark.INDEX_FINGER_TIP].x * screen_width)\n",
    "            if index_finger_tip_x < screen_width // 3:\n",
    "                car_x -= car_speed\n",
    "            elif index_finger_tip_x > screen_width * 2 // 3:\n",
    "                car_x += car_speed\n",
    "\n",
    "            if car_x < 0:\n",
    "                car_x = 0\n",
    "            elif car_x > screen_width - car_image.get_width():\n",
    "                car_x = screen_width - car_image.get_width()\n",
    "\n",
    "        for stone in stones:\n",
    "            stone[\"y\"] += stone_speed\n",
    "            if stone[\"y\"] > screen_height:\n",
    "                stone[\"y\"] = np.random.randint(-600, -50)\n",
    "                stone[\"x\"] = np.random.randint(0, screen_width - 50)\n",
    "                score += 1  \n",
    "\n",
    "        for stone in stones:\n",
    "            if car_y < stone[\"y\"] + 50 and car_y + 140 > stone[\"y\"] and car_x < stone[\"x\"] + 50 and car_x + 70 > stone[\"x\"]:\n",
    "                running = False  \n",
    "        screen.blit(background_image, (0, 0))\n",
    "        draw_car(car_x, car_y, car_image)\n",
    "        for stone in stones:\n",
    "            draw_stone(stone[\"x\"], stone[\"y\"])\n",
    "        show_text(f\"Score: {score}\", 10, 10, black)\n",
    "        show_text(f\"High Score: {high_score}\", 10, 50, black)\n",
    "        pygame.display.update()\n",
    "        clock.tick(30)\n",
    "\n",
    "        \n",
    "        cv2.imshow(\"Hand Tracking\", frame)\n",
    "        if cv2.waitKey(1) & 0xFF == ord('q'):\n",
    "            break\n",
    "\n",
    "\n",
    "    if score > high_score:\n",
    "        high_score = score\n",
    "        show_text(\"You got a High Score!\", screen_width // 2 - 100, screen_height // 2, red)\n",
    "    else:\n",
    "        show_text(\"You Lose!\", screen_width // 2 - 50, screen_height // 2, red)\n",
    "    pygame.display.update()\n",
    "    pygame.time.wait(3000)\n",
    "\n",
    "    pygame.quit()\n",
    "    cap.release()\n",
    "    cv2.destroyAllWindows()\n",
    "\n",
    "main()\n"
   ]
  },
  {
   "cell_type": "code",
   "execution_count": null,
   "id": "92d9f37a",
   "metadata": {},
   "outputs": [],
   "source": []
  }
 ],
 "metadata": {
  "kernelspec": {
   "display_name": "Python 3 (ipykernel)",
   "language": "python",
   "name": "python3"
  },
  "language_info": {
   "codemirror_mode": {
    "name": "ipython",
    "version": 3
   },
   "file_extension": ".py",
   "mimetype": "text/x-python",
   "name": "python",
   "nbconvert_exporter": "python",
   "pygments_lexer": "ipython3",
   "version": "3.9.12"
  }
 },
 "nbformat": 4,
 "nbformat_minor": 5
}
